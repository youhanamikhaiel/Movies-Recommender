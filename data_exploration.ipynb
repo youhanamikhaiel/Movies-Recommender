{
 "cells": [
  {
   "cell_type": "code",
   "execution_count": 3,
   "metadata": {},
   "outputs": [
    {
     "name": "stdout",
     "output_type": "stream",
     "text": [
      "id                           0\n",
      "Title                        0\n",
      "Movie Link                   0\n",
      "Year                         0\n",
      "Duration                   221\n",
      "MPA                       7976\n",
      "Rating                     138\n",
      "Votes                      138\n",
      "budget                   21785\n",
      "grossWorldWide           15378\n",
      "gross_US_Canada          16029\n",
      "opening_weekend_Gross    18077\n",
      "directors                    0\n",
      "writers                      0\n",
      "stars                        0\n",
      "genres                       0\n",
      "countries_origin             0\n",
      "filming_locations         6729\n",
      "production_companies         0\n",
      "Languages                    0\n",
      "wins                         0\n",
      "nominations                  0\n",
      "oscars                       0\n",
      "description                401\n",
      "dtype: int64\n"
     ]
    }
   ],
   "source": [
    "import pandas as pd\n",
    "from utils import process_list_columns\n",
    "\n",
    "# load dataset\n",
    "data = pd.read_csv('dataset/movies_with_description.csv')\n",
    "\n",
    "# convert string lists to lists\n",
    "data = process_list_columns(data, ['directors', 'writers', 'stars', 'genres', 'countries_origin', 'Languages', 'production_companies'])\n",
    "\n",
    "# count number of null values in each column\n",
    "null_counts = data.isnull().sum()\n",
    "print(null_counts)"
   ]
  },
  {
   "cell_type": "code",
   "execution_count": 9,
   "metadata": {},
   "outputs": [],
   "source": [
    "#removing movies with no descriptions which means no much info about them on imdb\n",
    "data_all_with_descriptions = data[data['description'].notna()]\n",
    "\n",
    "data_all_with_descriptions.to_csv('dataset/movies_all_description.csv', index=False)"
   ]
  },
  {
   "cell_type": "code",
   "execution_count": 18,
   "metadata": {},
   "outputs": [
    {
     "name": "stdout",
     "output_type": "stream",
     "text": [
      "Result 1:\n",
      "  Title: Vault\n",
      "  Description: In 1975, a group of small time criminals attempt to pull off the biggest heist in American history: stealing over $30 million from the Mafia in the smallest state in the union, Rhode Island.\n",
      "  Similarity Score: 0.4812847971916199\n",
      "\n",
      "Result 2:\n",
      "  Title: This Thing of Ours\n",
      "  Description: Using the Internet and global satellites, a group of gangsters pull off the biggest bank heist in the Mafia's history.\n",
      "  Similarity Score: 0.438146710395813\n",
      "\n",
      "Result 3:\n",
      "  Title: Masterminds\n",
      "  Description: A guard at an armored car company in the Southern U.S. organizes one of the biggest bank heists in American history. Based on the October 1997 Loomis Fargo robbery.\n",
      "  Similarity Score: 0.42707836627960205\n",
      "\n"
     ]
    }
   ],
   "source": [
    "from langchain_community.vectorstores import Chroma\n",
    "from langchain.embeddings import HuggingFaceEmbeddings\n",
    "\n",
    "embedding_model = HuggingFaceEmbeddings(model_name=\"sentence-transformers/all-mpnet-base-v2\", model_kwargs={'device': 'mps'})\n",
    "vector_store = Chroma(persist_directory = \"chroma_db\", \n",
    "                      collection_name='movie_descriptions',\n",
    "                      embedding_function=embedding_model)\n",
    "\n",
    "# Perform a similarity search\n",
    "query = \"The biggest heist in history\"\n",
    "results = vector_store.similarity_search_with_score(query, k=3)\n",
    "\n",
    "# Display the results\n",
    "for i, result in enumerate(results):\n",
    "    print(f\"Result {i + 1}:\")\n",
    "    print(f\"  Title: {result[0].metadata['Title']}\")\n",
    "    print(f\"  Description: {result[0].page_content}\")\n",
    "    print(f\"  Similarity Score: {1-result[1]}\")\n",
    "    print()"
   ]
  }
 ],
 "metadata": {
  "kernelspec": {
   "display_name": "movieenv",
   "language": "python",
   "name": "python3"
  },
  "language_info": {
   "codemirror_mode": {
    "name": "ipython",
    "version": 3
   },
   "file_extension": ".py",
   "mimetype": "text/x-python",
   "name": "python",
   "nbconvert_exporter": "python",
   "pygments_lexer": "ipython3",
   "version": "3.11.7"
  }
 },
 "nbformat": 4,
 "nbformat_minor": 2
}
