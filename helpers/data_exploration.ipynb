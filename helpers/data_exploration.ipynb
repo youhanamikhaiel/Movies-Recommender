{
 "cells": [
  {
   "cell_type": "code",
   "execution_count": 3,
   "metadata": {},
   "outputs": [
    {
     "name": "stdout",
     "output_type": "stream",
     "text": [
      "id                           0\n",
      "Title                        0\n",
      "Movie Link                   0\n",
      "Year                         0\n",
      "Duration                   221\n",
      "MPA                       7976\n",
      "Rating                     138\n",
      "Votes                      138\n",
      "budget                   21785\n",
      "grossWorldWide           15378\n",
      "gross_US_Canada          16029\n",
      "opening_weekend_Gross    18077\n",
      "directors                    0\n",
      "writers                      0\n",
      "stars                        0\n",
      "genres                       0\n",
      "countries_origin             0\n",
      "filming_locations         6729\n",
      "production_companies         0\n",
      "Languages                    0\n",
      "wins                         0\n",
      "nominations                  0\n",
      "oscars                       0\n",
      "description                401\n",
      "dtype: int64\n"
     ]
    }
   ],
   "source": [
    "import pandas as pd\n",
    "from utils import process_list_columns\n",
    "\n",
    "# load dataset\n",
    "data = pd.read_csv('dataset/movies_with_description.csv')\n",
    "\n",
    "# convert string lists to lists\n",
    "data = process_list_columns(data, ['directors', 'writers', 'stars', 'genres', 'countries_origin', 'Languages', 'production_companies'])\n",
    "\n",
    "# count number of null values in each column\n",
    "null_counts = data.isnull().sum()\n",
    "print(null_counts)"
   ]
  },
  {
   "cell_type": "code",
   "execution_count": 9,
   "metadata": {},
   "outputs": [],
   "source": [
    "#removing movies with no descriptions which means no much info about them on imdb\n",
    "data_all_with_descriptions = data[data['description'].notna()]\n",
    "\n",
    "data_all_with_descriptions.to_csv('dataset/movies_all_description.csv', index=False)"
   ]
  },
  {
   "cell_type": "code",
   "execution_count": null,
   "metadata": {},
   "outputs": [
    {
     "ename": "AttributeError",
     "evalue": "'tuple' object has no attribute 'metadata'",
     "output_type": "error",
     "traceback": [
      "\u001b[0;31m---------------------------------------------------------------------------\u001b[0m",
      "\u001b[0;31mAttributeError\u001b[0m                            Traceback (most recent call last)",
      "Cell \u001b[0;32mIn[4], line 12\u001b[0m\n\u001b[1;32m     10\u001b[0m query \u001b[38;5;241m=\u001b[39m \u001b[38;5;124m\"\u001b[39m\u001b[38;5;124ma love story between a rich and poor\u001b[39m\u001b[38;5;124m\"\u001b[39m\n\u001b[1;32m     11\u001b[0m results \u001b[38;5;241m=\u001b[39m vector_store\u001b[38;5;241m.\u001b[39msimilarity_search_with_score(query, k\u001b[38;5;241m=\u001b[39m\u001b[38;5;241m3\u001b[39m)\n\u001b[0;32m---> 12\u001b[0m \u001b[38;5;28mprint\u001b[39m(\u001b[43mresults\u001b[49m\u001b[43m[\u001b[49m\u001b[38;5;241;43m0\u001b[39;49m\u001b[43m]\u001b[49m\u001b[38;5;241;43m.\u001b[39;49m\u001b[43mmetadata\u001b[49m)\n\u001b[1;32m     13\u001b[0m \u001b[38;5;66;03m# Display the results\u001b[39;00m\n\u001b[1;32m     14\u001b[0m \u001b[38;5;28;01mfor\u001b[39;00m i, result \u001b[38;5;129;01min\u001b[39;00m \u001b[38;5;28menumerate\u001b[39m(results):\n",
      "\u001b[0;31mAttributeError\u001b[0m: 'tuple' object has no attribute 'metadata'"
     ]
    }
   ],
   "source": [
    "from langchain_community.vectorstores import Chroma\n",
    "from langchain.embeddings import HuggingFaceEmbeddings\n",
    "\n",
    "embedding_model = HuggingFaceEmbeddings(model_name=\"sentence-transformers/all-mpnet-base-v2\", model_kwargs={'device': 'mps'})\n",
    "vector_store = Chroma(persist_directory = \"chroma_db\", \n",
    "                      collection_name='movie_descriptions',\n",
    "                      embedding_function=embedding_model)\n",
    "\n",
    "# Perform a similarity search\n",
    "query = \"a love story between a rich and poor\"\n",
    "results = vector_store.similarity_search_with_score(query, k=3)\n",
    "print(results)\n",
    "# Display the results\n",
    "for i, result in enumerate(results):\n",
    "    print(f\"Result {i + 1}:\")\n",
    "    print(f\"  Title: {result[0].metadata['Title']}\")\n",
    "    print(f\"  Description: {result[0].page_content}\")\n",
    "    print(f\"  Similarity Score: {1-result[1]}\")\n",
    "    print()"
   ]
  },
  {
   "cell_type": "code",
   "execution_count": 1,
   "metadata": {},
   "outputs": [
    {
     "name": "stdout",
     "output_type": "stream",
     "text": [
      "imdbID is: 6751668\n",
      "original title is: Gisaengchung\n",
      "localized title is: Parasite\n",
      "title is: Parasite\n",
      "year is: 2019\n",
      "genres is: ['Drama', 'Thriller']\n",
      "rating is: 8.5\n",
      "votes is: 1031279\n",
      "Name: Song Kang-ho\n",
      "IMDb ID: 0814280\n",
      "Role: Ki Taek\n",
      "runtimes is: ['132']\n",
      "countries is: ['South Korea']\n",
      "country codes is: ['kr']\n",
      "language codes is: ['ko', 'en']\n",
      "languages is: ['Korean', 'English']\n",
      "color info is: ['Color']\n",
      "certificates is: ['Argentina:13', 'Australia:MA15+', 'Belgium:KT/EA', 'Belgium:12', 'Brazil:16', 'Canada:14A::(Alberta)', 'Canada:13+::(Québec)', 'Canada:14A::(video rating)', 'Chile:14', 'Colombia:15', 'Denmark:15', 'Ecuador:12::(Guayaquil)', 'Ecuador:15::(Quito)', 'Egypt:PG::(self-applied)', 'Finland:K-16', 'France:Tous publics avec avertissement', 'France:10::(video rating)', 'Germany:16', 'Hong Kong:IIB', 'Hungary:16', 'Iceland:16', 'India:UA', 'Indonesia:17+', 'Ireland:16', 'Ireland:15::(Blu-ray rating)', 'Ireland:15::(DVD rating)', 'Israel:16', 'Italy:VM14', 'Japan:PG12', 'Lithuania:N-16', 'Luxembourg:12', 'Malaysia:18', 'Mexico:B15', 'Netherlands:16', 'New Zealand:R13', 'Nigeria:12', 'Norway:15::(cinema rating)', 'Philippines:R-13', 'Poland:16', 'Portugal:M/14', 'Russia:18+', 'Saudi Arabia:R12', 'Singapore:M18', 'South Africa:16', 'South Korea:15', 'Spain:16::(ICAA)', 'Sweden:15', 'Switzerland:14', 'Taiwan:R-12', 'Thailand:15', 'Turkey:15+', 'United Kingdom:15', 'United States:R', 'Ukraine:16', 'United Arab Emirates:PG-15::(self-applied)', 'Vietnam:C18']\n",
      "original air date is: 05 Jun 2019 (France)\n",
      "plot outline is: The Kims - mother and father Chung-sook and Ki-taek, and their young adult offspring, son Ki-woo and daughter Ki-jung - are a poor family living in a shabby and cramped half basement apartment in a busy lower working class commercial district of Seoul. Ki-woo is the one who has dreams of getting out of poverty by one day going to university. Despite not having that university education, Ki-woo is chosen by his university student friend Min, who is leaving to go to school, to take over his tutoring job to Park Da-hye, who Min plans to date once he returns to Seoul and she herself is in university. The Parks are a wealthy family who for four years have lived in their modernistic house designed by and the former residence of famed architect Namgoong. While Mr. and Mrs. Park are all about status, Mrs. Park has a flighty, simpleminded mentality and temperament, which Min tells Ki-woo to feel comfortable in lying to her about his education to get the job. In getting the job, Ki-woo further learns that Mrs. Park is looking for an art therapist for the Parks' adolescent son, Da-song, Ki-woo quickly recommending his professional art therapist friend \"Jessica\", really Ki-jung who he knows can pull off the scam in being the easiest liar of the four Kims. In Ki-woo also falling for Da-hye, he begins to envision himself in that house, and thus the Kims as a collective start a plan for all the Kims, like Ki-jung using assumed names, to replace existing servants in the Parks' employ in orchestrating reasons for them to be fired. The most difficult to get rid of may be Moon-gwang, the Parks' housekeeper who literally came with the house - she Namgoong's housekeeper when he lived there - and thus knows all the little nooks and crannies of it better than the Parks themselves. The question then becomes how far the Kims can take this scam in their quest to become their version of the Parks.\n",
      "plot is: ['Greed and class discrimination threaten the newly formed symbiotic relationship between the wealthy Park family and the destitute Kim clan.', 'The Kims - mother and father Chung-sook and Ki-taek, and their young adult offspring, son Ki-woo and daughter Ki-jung - are a poor family living in a shabby and cramped half basement apartment in a busy lower working class commercial district of Seoul. Ki-woo is the one who has dreams of getting out of poverty by one day going to university. Despite not having that university education, Ki-woo is chosen by his university student friend Min, who is leaving to go to school, to take over his tutoring job to Park Da-hye, who Min plans to date once he returns to Seoul and she herself is in university. The Parks are a wealthy family who for four years have lived in their modernistic house designed by and the former residence of famed architect Namgoong. While Mr. and Mrs. Park are all about status, Mrs. Park has a flighty, simpleminded mentality and temperament, which Min tells Ki-woo to feel comfortable in lying to her about his education to get the job. In getting the job, Ki-woo further learns that Mrs. Park is looking for an art therapist for the Parks\\' adolescent son, Da-song, Ki-woo quickly recommending his professional art therapist friend \"Jessica\", really Ki-jung who he knows can pull off the scam in being the easiest liar of the four Kims. In Ki-woo also falling for Da-hye, he begins to envision himself in that house, and thus the Kims as a collective start a plan for all the Kims, like Ki-jung using assumed names, to replace existing servants in the Parks\\' employ in orchestrating reasons for them to be fired. The most difficult to get rid of may be Moon-gwang, the Parks\\' housekeeper who literally came with the house - she Namgoong\\'s housekeeper when he lived there - and thus knows all the little nooks and crannies of it better than the Parks themselves. The question then becomes how far the Kims can take this scam in their quest to become their version of the Parks.—Huggo', \"Jobless, penniless, and utterly hopeless, the unmotivated patriarch Ki-taek and his equally unambitious family struggle to make ends meet by working for peanuts in their dingy, basement-level apartment. However, their luck changes when their college-age son, Ki-woo, seizes a golden opportunity: entirely unqualified, he has the nerve to pose as an English tutor for the wealthy Park family's teenage daughter. And now, the sky is the limit. But as they adopt a winner-take-all strategy and launch a silent class war, the question arises. When it comes to parasites, how does one get rid of them?—Nick Riganas\", \"After his rich friend asks him to fake qualifications and take his tutor role to a rich teenage girl so none will try to date her in his absence, the poor lead takes up the offer & enters the rich yet gullible family. He then cons his way into the family, dates his friend's crush & schemes to get all his family get a job under the family. When the owners leave the house on vacation they move in & undergo a bizarre encounter which changes the lives of everyone.\"]\n",
      "synopsis is: ['Kim Ki-Taek (Song Kang-Ho), an unemployed driver, lives with his wife Choong-Sook (Jang Hye-Jin), son Ki-Woo (Choi Woo-Shik) and daughter Ki-Jeong (Park So-Dam) in a shabby semi-basement apartment. The family struggles to survive, working low-paying gigs such as folding pizza boxes. Ki-Woo\\'s friend Min-Hyuk (Park Seo-Joon) visits the family and gifts them a large rock supposed to bring them wealth, before he leaves to study abroad. He suggests Ki-Woo take over his job as an English tutor for the wealthy Park family\\'s youngest daughter, Da-Hye (Jung Ji-So).Min-Hyuk has feelings for Da-Hye and figures that she will be safe with Ki-Woo, till he graduates college. In the lavish Park mansion, Ki-Woo is interviewed by Mrs. Park (Cho Yeo-Jeong) to tutor Da-Hye and is hired after Mrs. Park sees his talents (His degrees which were faked by his sister Ki-Jeong who is a master at forgery) in action.\\nLearning of Mrs. Park\\'s struggle to find an art teacher for her younger child, Da-Song, Ki-Woo suggests a \"professional\" named Jessica, who in reality is Ki-Jeong. Once hired, Ki-Jeong gets Mr. Park\\'s (Lee Sun-Kyun) driver fired (The driver hits on Ki-Jeong and she accuses him of sexual harassment by placing her panties in the back seat of the Mercedes he is in charge of) and replaced with her \"Uncle Kim\": Ki-Taek.The Kims soon get housekeeper Moon-Kwang (Lee Jung-Eun) fired (Moon-Kwang had a rule that the family could not eat peaches, but Ki-Jeong discovers that its because Moon-Kwang herself is severely allergic to it and the manipulate the Park family to believe that Moon-Kwang had Tuberculosis. This enrages Mrs. Park, who fires her), with Choong-Sook hired in her place, employing the entire Kim family.\\nKi-Woo ends up kissing Da-Hye and both are attracted to each other.The Parks go on an overnight camping trip, leaving the mansion in Choong-Sook\\'s care. The Kims take the opportunity to have a drunken party in the mansion, during which Ki-Woo confesses to his family that he is in love with Da-Hye. In the middle of their celebration, Moon-Kwang (Lee Jung-Eun) rings the bell and claims that she came to retrieve something in the basement. The other Kims hide, then Choong-Sook lets Moon-Kwang in. Heading to the basement, the former housekeeper opens a secret bunker, revealing that her husband, Geun-Sae (Park Myung-Hoon), has been hiding for 4 years to avoid loan sharks. As Choong-Sook threatens to call the police, the rest of the Kims, eavesdropping, accidentally stumble into view. Moon-Kwang quickly records footage of the new \"staff\" addressing each other as father and children, then threatens to send the clip to the Parks.The Parks call Choong-Sook to announce that the heavy rain has ruined their camping trip, and they will be home soon. The Kims scramble to confine Moon-Kwang and Geun-Sae, then clean up and hide, while Choong-Sook prepares some food requested by Mrs. Park. Moon-Kwang breaks free and runs up into the kitchen, but Choong-Sook pushes her down the basement stairs, severely wounding her head. While eating, Mrs. Park tells Choong-Sook that her son was traumatized one birthday by what he thought was a ghost coming up from the basement (he just saw Moon-Kwang\\'s husband coming into the kitchen from the basement stairs).Moon-Kwang\\'s husband is tied up by Ki-Taek and he reveals to him that he has been trying to communicate with Mr Park via Morse code for several years (a light in the dining room has a switch in the basement) (but Mr Park, never understood Morse code and hence never understood the message). After a few close calls, the other three Kims leave the mansion undetected. They run back to their apartment, which has been flooded by the storm. They salvage what they can, Ki-Woo carrying the large \"lucky rock\" Min-Hyuk gifted his family earlier. The three, along with other displaced citizens, sleep in a gymnasium. Meanwhile, Moon-Kwang dies from her concussion as Geun-Sae cries. but before dying she cuts off the tape that Ki-Taek had used to tie her husband up, thus freeing him.The following day, Mrs. Park throws a birthday party for Da-Song (Jung Hyun-Joon) and ask the Kims to come over and help with all the chores (the Kims are bummed as they feel that the Parks are totally oblivious to the lives of ordinary people. Ki-Taek is especially miffed when Mrs and Mr Park, both make insensitive comments about air quality improving from all the rain from the previous night). During the party, Ki-Woo carries the rock down to the bunker, intending to kill Geun-Sae. Geun-Sae ambushes Ki-Woo, cracks his head open with the rock, then crashes the party, where he stabs Ki-Jeong in the chest.\\nGeun-Sae\\'s sudden appearance triggers Da-Song\\'s traumatic memory, causing the child to have a seizure. Ki-Taek rushes to stop Ki-Jeong\\'s bleeding, while Mr. Park yells at him for the car keys, so Park can drive Da-Song to the hospital. The key lands under the fighting Choong-Sook and Geun-Sae, before Choong-Sook kills Geun-Sae with a meat skewer. Mr. Park retrieves the key, while recoiling from Geun-Sae\\'s \"poor man\\'s smell.\" Ki-Taek, witnessing Mr. Park\\'s reaction to the smell, also his own, snaps, fatally stabs him, then flees.The ending is narrated by Ki-Woo, recounting that Ki-Jeong died from her wounds, while he required brain surgery and suffered a weeks-long coma; he and Choong-Sook went to trial and were sentenced to probation. Later, watching the Parks\\' mansion, Ki-Woo notices a light flickering in Morse code - a message from Ki-Taek, who managed to retreat into the bunker in the chaos, and has been hiding from and living off of the new owners. Ki-Woo promises that one day, he will earn enough money to buy the house and free his father. Fantasizing about the day of their reunion, Ki-Woo ends his letter sitting in the shabby semi-basement apartment where the movie began.']\n",
      "director is: [<Person id:0094435[http] name:_Bong Joon Ho_>]\n",
      "writer is: [<Person id:0094435[http] name:_Bong Joon Ho_>, <Person id:None[http] name:_None_>, <Person id:0094435[http] name:_Bong Joon Ho_>, <Person id:8243301[http] name:_Han Jin-won_>]\n",
      "full-size cover url is: https://m.media-amazon.com/images/M/MV5BYjk1Y2U4MjQtY2ZiNS00OWQyLWI3MmYtZWUwNmRjYWRiNWNhXkEyXkFqcGc@.jpg\n",
      "videos is: ['http://www.imdb.com/title/tt6751668/videoplayer/vi1015463705', 'http://www.imdb.com/title/tt6751668/videoplayer/vi4232428569']\n"
     ]
    }
   ],
   "source": [
    "import pandas as pd\n",
    "from imdb import IMDb\n",
    "\n",
    "ia = IMDb()\n",
    "\n",
    "movie_id = \"tt6751668\"\n",
    "\n",
    "retrieved_keys = [\"imdbID\", \"original title\", \"localized title\", \"title\", \"year\", \"genres\", \"rating\", \"votes\", \"cast\", \"runtimes\", \"countries\", \"country codes\", \"language codes\",\n",
    "                  \"languages\", \"color info\", \"certificates\", \"original air date\", \"plot outline\", \"plot\", \"synopsis\", \"director\", \"writer\", \"full-size cover url\", \"videos\"]\n",
    "# Get the movie by IMDb ID\n",
    "movie = ia.get_movie(movie_id[2:])\n",
    "\n",
    "for key in retrieved_keys:\n",
    "    if key == \"cast\":\n",
    "        person = movie[\"cast\"][0]\n",
    "        print(f\"Name: {person['name']}\")\n",
    "        print(f\"IMDb ID: {person.personID}\")\n",
    "        print(f\"Role: {person.currentRole}\")\n",
    "    else:\n",
    "        print(f\"{key} is: {movie[key]}\")"
   ]
  }
 ],
 "metadata": {
  "kernelspec": {
   "display_name": "movieenv",
   "language": "python",
   "name": "python3"
  },
  "language_info": {
   "codemirror_mode": {
    "name": "ipython",
    "version": 3
   },
   "file_extension": ".py",
   "mimetype": "text/x-python",
   "name": "python",
   "nbconvert_exporter": "python",
   "pygments_lexer": "ipython3",
   "version": "3.11.7"
  }
 },
 "nbformat": 4,
 "nbformat_minor": 2
}
